{
 "cells": [
  {
   "cell_type": "code",
   "execution_count": 1,
   "id": "ab42b052",
   "metadata": {},
   "outputs": [
    {
     "name": "stderr",
     "output_type": "stream",
     "text": [
      "C:\\Users\\likhi\\anaconda3\\Lib\\site-packages\\sklearn\\cluster\\_kmeans.py:1412: FutureWarning: The default value of `n_init` will change from 10 to 'auto' in 1.4. Set the value of `n_init` explicitly to suppress the warning\n",
      "  super()._check_params_vs_input(X, default_n_init=10)\n"
     ]
    },
    {
     "name": "stdout",
     "output_type": "stream",
     "text": [
      "cluster_map.html:\n",
      "<folium.folium.Map object at 0x0000022F04604F10>\n",
      "Number of incidents in each cluster:\n",
      "cluster\n",
      "2    11162\n",
      "1    10080\n",
      "3     8011\n",
      "0     7130\n",
      "Name: count, dtype: int64\n"
     ]
    }
   ],
   "source": [
    "import pandas as pd\n",
    "from sklearn.cluster import KMeans\n",
    "from geopy.distance import geodesic\n",
    "import folium\n",
    "\n",
    "# Loading the dataset\n",
    "dataset = pd.read_csv(r\"C:\\Users\\likhi\\Downloads\\IndiaPoliticalViolence(no Islands_Kashmir_Ladakh).csv\")\n",
    "\n",
    "# Extracting features for clustering (e.g., latitude and longitude)\n",
    "features = dataset[['latitude', 'longitude']]\n",
    "\n",
    "# Define the number of clusters (k)\n",
    "num_clusters = 4\n",
    "\n",
    "# Initialize the KMeans model\n",
    "kmeans_model = KMeans(n_clusters=num_clusters)\n",
    "\n",
    "# Fit the model to the data\n",
    "kmeans_model.fit(features)\n",
    "\n",
    "# Obtain cluster labels for each data point\n",
    "cluster_labels = kmeans_model.labels_\n",
    "\n",
    "# Add cluster labels to the dataset\n",
    "dataset['cluster'] = cluster_labels\n",
    "\n",
    "# Calculate the count of incidents in each cluster\n",
    "cluster_counts = dataset['cluster'].value_counts().to_dict()\n",
    "\n",
    "# Creating a map centered around the mean latitude and longitude\n",
    "map_center = [dataset['latitude'].mean(), dataset['longitude'].mean()]\n",
    "map_clusters = folium.Map(location=map_center, zoom_start=5)\n",
    "\n",
    "# Define colors for clusters\n",
    "colors = ['red', 'blue', 'green','yellow']  \n",
    "\n",
    "# Add data points to the map with cluster colors and incident counts\n",
    "for index, row in dataset.iterrows():\n",
    "    folium.CircleMarker(\n",
    "        location=[row['latitude'], row['longitude']],\n",
    "        radius=5,\n",
    "        color=colors[row['cluster']],\n",
    "        fill=True,\n",
    "        fill_color=colors[row['cluster']],\n",
    "        fill_opacity=0.7,\n",
    "        popup=f\"Cluster: {row['cluster']}<br>Incidents: {cluster_counts[row['cluster']]}\",\n",
    "    ).add_to(map_clusters)\n",
    "\n",
    "# Save the map as an HTML file\n",
    "map_clusters.save(\"cluster_map.html\")\n",
    "\n",
    "# Print cluster centers\n",
    "print(\"cluster_map.html:\")\n",
    "print(map_clusters)\n",
    "\n",
    "# Displaying the number of incidents in each cluster\n",
    "cluster_counts = dataset['cluster'].value_counts()\n",
    "print(\"Number of incidents in each cluster:\")\n",
    "print(cluster_counts)\n"
   ]
  },
  {
   "cell_type": "code",
   "execution_count": null,
   "id": "24d2ef4d",
   "metadata": {},
   "outputs": [],
   "source": []
  }
 ],
 "metadata": {
  "kernelspec": {
   "display_name": "Python 3 (ipykernel)",
   "language": "python",
   "name": "python3"
  },
  "language_info": {
   "codemirror_mode": {
    "name": "ipython",
    "version": 3
   },
   "file_extension": ".py",
   "mimetype": "text/x-python",
   "name": "python",
   "nbconvert_exporter": "python",
   "pygments_lexer": "ipython3",
   "version": "3.11.5"
  }
 },
 "nbformat": 4,
 "nbformat_minor": 5
}
